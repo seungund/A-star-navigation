import osmnx as ox
import networkx as nx
import matplotlib.pyplot as plt
import math
import folium